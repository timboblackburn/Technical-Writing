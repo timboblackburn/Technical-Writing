{
 "cells": [
  {
   "cell_type": "markdown",
   "id": "28909a86",
   "metadata": {},
   "source": [
    "# Inspirational CLI Tutorial\n",
    "\n",
    "Welcome! This notebook will walk you through building and understanding the **Daily Inspiration CLI** project step by step.  \n",
    "\n",
    "By the end, you will understand:\n",
    "1. How to **import Python modules**.\n",
    "2. How to **define fallback quotes** using lists.\n",
    "3. How to **fetch live data from an API**.\n",
    "4. How to **gracefully handle errors**.\n",
    "5. How to **run the full CLI tool**.\n",
    "\n",
    "We’ll use beginner-friendly explanations so even if you’re new to Python, you’ll understand what’s happening."
   ]
  },
  {
   "cell_type": "markdown",
   "id": "29ad175f",
   "metadata": {},
   "source": [
    "## Step 1: Importing Required Modules  \n",
    "\n",
    "We need to load some tools (called *modules* or *libraries*) that extend Python’s abilities:  \n",
    "\n",
    "- `requests`: lets us fetch live data from APIs on the internet.  \n",
    "- `datetime`: lets us print the current date/time.  \n",
    "- `random`: lets us randomly pick a fallback quote if the API fails.  \n"
   ]
  },
  {
   "cell_type": "code",
   "execution_count": null,
   "id": "daca0440",
   "metadata": {},
   "outputs": [],
   "source": [
    "import requests\n",
    "from datetime import datetime\n",
    "import random\n"
   ]
  },
  {
   "cell_type": "markdown",
   "id": "66a9de0e",
   "metadata": {},
   "source": [
    "## Step 2: Define Fallback Quotes  \n",
    "\n",
    "Sometimes the API won’t respond (bad internet, server down, etc.).  \n",
    "To make sure our program *always* shows something, we’ll prepare a **list of backup quotes**.  \n"
   ]
  },
  {
   "cell_type": "code",
   "execution_count": null,
   "id": "26aacf8c",
   "metadata": {},
   "outputs": [],
   "source": [
    "FALLBACK_QUOTES = [\n",
    "    \"The best way to get started is to quit talking and begin doing. – Walt Disney\",\n",
    "    \"Don’t let yesterday take up too much of today. – Will Rogers\",\n",
    "    \"It’s not whether you get knocked down, it’s whether you get up. – Vince Lombardi\",\n",
    "    \"If you are working on something exciting, it will keep you motivated. – Steve Jobs\"\n",
    "]\n"
   ]
  },
  {
   "cell_type": "markdown",
   "id": "75d5f8af",
   "metadata": {},
   "source": [
    "## Step 3: Fetch Quotes from the API  \n",
    "\n",
    "We’ll use the **ZenQuotes API** to fetch real inspirational quotes.  \n",
    "\n",
    "This code:  \n",
    "1. Sends a request to `https://zenquotes.io/api/random`.  \n",
    "2. If the request succeeds, it grabs the quote text + author.  \n",
    "3. If the request fails, it picks one from our `FALLBACK_QUOTES`.  \n"
   ]
  },
  {
   "cell_type": "code",
   "execution_count": null,
   "id": "526b3849",
   "metadata": {},
   "outputs": [],
   "source": [
    "def get_quote():\n",
    "    \"\"\"Fetch a random inspirational quote from ZenQuotes API or fallback list.\"\"\"\n",
    "    try:\n",
    "        response = requests.get(\"https://zenquotes.io/api/random\", timeout=5)\n",
    "        if response.status_code == 200:\n",
    "            data = response.json()\n",
    "            return f\"“{data[0]['q']}” – {data[0]['a']}\"\n",
    "    except Exception:\n",
    "        return random.choice(FALLBACK_QUOTES)\n"
   ]
  },
  {
   "cell_type": "markdown",
   "id": "2a45ea72",
   "metadata": {},
   "source": [
    "## Step 4: Run the CLI  \n",
    "\n",
    "Now let’s bring it all together.  \n",
    "We’ll print a **header**, today’s **date/time**, and an inspirational quote.  \n"
   ]
  },
  {
   "cell_type": "code",
   "execution_count": null,
   "id": "ac6b6564",
   "metadata": {},
   "outputs": [],
   "source": [
    "print(\"=\"*50)\n",
    "print(\"💡 Daily Inspiration CLI 💡\")\n",
    "print(f\"Date: {datetime.now().strftime('%Y-%m-%d %H:%M:%S')}\")\n",
    "print(\"=\"*50)\n",
    "print(get_quote())\n",
    "print(\"=\"*50)\n"
   ]
  }
 ],
 "metadata": {
  "kernelspec": {
   "display_name": "Python 3",
   "language": "python",
   "name": "python3"
  },
  "language_info": {
   "name": "python",
   "version": "3.13.0"
  }
 },
 "nbformat": 4,
 "nbformat_minor": 5
}
